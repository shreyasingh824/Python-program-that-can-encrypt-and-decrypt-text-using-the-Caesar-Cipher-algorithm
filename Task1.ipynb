{
 "cells": [
  {
   "cell_type": "code",
   "execution_count": 1,
   "id": "cc53573a",
   "metadata": {},
   "outputs": [],
   "source": [
    "def caesar_encrypt(text, shift):\n",
    "    encrypted_text = \"\"\n",
    "    for char in text:\n",
    "        if char.isalpha():\n",
    "            shift_amount = shift % 26\n",
    "            if char.islower():\n",
    "                base = ord('a')\n",
    "                encrypted_text += chr((ord(char) - base + shift_amount) % 26 + base)\n",
    "            elif char.isupper():\n",
    "                base = ord('A')\n",
    "                encrypted_text += chr((ord(char) - base + shift_amount) % 26 + base)\n",
    "        else:\n",
    "            encrypted_text += char\n",
    "    return encrypted_text"
   ]
  },
  {
   "cell_type": "code",
   "execution_count": 2,
   "id": "f047b77b",
   "metadata": {},
   "outputs": [],
   "source": [
    "def caesar_decrypt(text, shift):\n",
    "    return caesar_encrypt(text, -shift)"
   ]
  },
  {
   "cell_type": "code",
   "execution_count": 3,
   "id": "6f87484f",
   "metadata": {},
   "outputs": [
    {
     "name": "stdout",
     "output_type": "stream",
     "text": [
      "Would you like to (e)ncrypt or (d)ecrypt a message? (e/d): yes\n",
      "Invalid choice. Please enter 'e' for encrypt or 'd' for decrypt.\n",
      "Would you like to (e)ncrypt or (d)ecrypt a message? (e/d): e\n",
      "Enter the message: hello\n",
      "Enter the shift value: 2\n",
      "Encrypted message: jgnnq\n",
      "Would you like to encrypt/decrypt another message? (yes/no): no\n"
     ]
    }
   ],
   "source": [
    "def main():\n",
    "    while True:\n",
    "        choice = input(\"Would you like to (e)ncrypt or (d)ecrypt a message? (e/d): \").lower()\n",
    "        if choice not in ['e', 'd']:\n",
    "            print(\"Invalid choice. Please enter 'e' for encrypt or 'd' for decrypt.\")\n",
    "            continue\n",
    "\n",
    "        message = input(\"Enter the message: \")\n",
    "        shift = int(input(\"Enter the shift value: \"))\n",
    "\n",
    "        if choice == 'e':\n",
    "            result = caesar_encrypt(message, shift)\n",
    "            print(f\"Encrypted message: {result}\")\n",
    "        else:\n",
    "            result = caesar_decrypt(message, shift)\n",
    "            print(f\"Decrypted message: {result}\")\n",
    "\n",
    "        again = input(\"Would you like to encrypt/decrypt another message? (yes/no): \").lower()\n",
    "        if again != 'yes':\n",
    "            break\n",
    "\n",
    "if __name__ == \"__main__\":\n",
    "    main()"
   ]
  },
  {
   "cell_type": "code",
   "execution_count": null,
   "id": "152473c6",
   "metadata": {},
   "outputs": [],
   "source": []
  }
 ],
 "metadata": {
  "kernelspec": {
   "display_name": "Python 3 (ipykernel)",
   "language": "python",
   "name": "python3"
  },
  "language_info": {
   "codemirror_mode": {
    "name": "ipython",
    "version": 3
   },
   "file_extension": ".py",
   "mimetype": "text/x-python",
   "name": "python",
   "nbconvert_exporter": "python",
   "pygments_lexer": "ipython3",
   "version": "3.9.13"
  }
 },
 "nbformat": 4,
 "nbformat_minor": 5
}
